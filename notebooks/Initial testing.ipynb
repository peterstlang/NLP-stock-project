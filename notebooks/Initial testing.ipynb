{
 "cells": [
  {
   "cell_type": "markdown",
   "id": "ec7f365a",
   "metadata": {},
   "source": [
    "# DEMO solution\n",
    "This notebook serves as first step in using NLP and machine learning to predict stock movements\n",
    "This first iteration will focus on scraping headlines using newsapi.org API and create a dataset for sentiment analysis"
   ]
  }
 ],
 "metadata": {
  "kernelspec": {
   "display_name": "Python 3 (ipykernel)",
   "language": "python",
   "name": "python3"
  },
  "language_info": {
   "codemirror_mode": {
    "name": "ipython",
    "version": 3
   },
   "file_extension": ".py",
   "mimetype": "text/x-python",
   "name": "python",
   "nbconvert_exporter": "python",
   "pygments_lexer": "ipython3",
   "version": "3.9.16"
  }
 },
 "nbformat": 4,
 "nbformat_minor": 5
}
