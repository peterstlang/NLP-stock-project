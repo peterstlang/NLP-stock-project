{
 "cells": [
  {
   "cell_type": "markdown",
   "id": "aee2f1a5",
   "metadata": {},
   "source": [
    "# DEMO solution\n",
    "This notebook serves as first step in using NLP and machine learning to predict stock movements\n",
    "This first iteration will focus on scraping headlines using newsapi.org API and create a dataset for sentiment analysis"
   ]
  },
  {
   "cell_type": "markdown",
   "id": "788ea253",
   "metadata": {},
   "source": [
    "## Getting data\n",
    "Using newsapi.org to get headlines"
   ]
  },
  {
   "cell_type": "code",
   "execution_count": 73,
   "id": "0fbf8f63",
   "metadata": {},
   "outputs": [],
   "source": [
    "# Getting API-key\n",
    "\n",
    "import sys    \n",
    "\n",
    "sys.path.append(\"C:/Users/peter/Documents/NLP-stock-project\")\n",
    "\n",
    "from keys import APIkey\n",
    "\n",
    "# some more imports\n",
    "\n",
    "import pprint\n",
    "import requests "
   ]
  },
  {
   "cell_type": "code",
   "execution_count": 87,
   "id": "b49682d5",
   "metadata": {},
   "outputs": [],
   "source": [
    "# define endpoint\n",
    "url = 'https://newsapi.org/v2/everything?'\n",
    "\n",
    "# parameters\n",
    "parameters = {\n",
    "    'q': 'microsoft', # query phrase\n",
    "    'from': '2023-10-03',  # Start date (YYYY-MM-DD) - specify your desired date here\n",
    "    'to': '2023-10-04',    # End date (YYYY-MM-DD) - specify your desired end date\n",
    "    'sortBy': 'publishedAt', # sort by publishingdate # number of articles (100 max)\n",
    "    'apiKey': APIkey # your own API key\n",
    "}"
   ]
  },
  {
   "cell_type": "code",
   "execution_count": 80,
   "id": "b5a23b2e",
   "metadata": {},
   "outputs": [],
   "source": [
    "# try:\n",
    "#     response = requests.get(url, params=parameters)\n",
    "#     response.raise_for_status()  # Raise HTTPError for bad requests\n",
    "#     response_json = response.json()\n",
    "#     print(response_json)\n",
    "# except requests.exceptions.HTTPError as errh:\n",
    "#     print(\"HTTP Error:\", errh)\n",
    "# except requests.exceptions.ConnectionError as errc:\n",
    "#     print(\"Error Connecting:\", errc)\n",
    "# except requests.exceptions.Timeout as errt:\n",
    "#     print(\"Timeout Error:\", errt)\n",
    "# except requests.exceptions.RequestException as err:\n",
    "#     print(\"OOps: Something Else\", err)"
   ]
  },
  {
   "cell_type": "code",
   "execution_count": 88,
   "id": "f190ac5e",
   "metadata": {},
   "outputs": [],
   "source": [
    "# Make the request\n",
    "response = requests.get(url, params=parameters)\n",
    "\n",
    "# Convert the response to JSON format\n",
    "response_json = response.json()\n",
    "\n",
    "# Check out the dictionaries keys\n",
    "#print(response_json.keys())\n",
    "\n",
    "# get articles\n",
    "articles = response_json[\"articles\"]"
   ]
  },
  {
   "cell_type": "code",
   "execution_count": 89,
   "id": "cdb7bf61",
   "metadata": {},
   "outputs": [],
   "source": [
    "titles = list(map(lambda x: x[\"title\"], articles))"
   ]
  },
  {
   "cell_type": "code",
   "execution_count": 90,
   "id": "3c69abd0",
   "metadata": {},
   "outputs": [
    {
     "data": {
      "text/plain": [
       "100"
      ]
     },
     "execution_count": 90,
     "metadata": {},
     "output_type": "execute_result"
    }
   ],
   "source": [
    "len(titles)"
   ]
  },
  {
   "cell_type": "code",
   "execution_count": 35,
   "id": "07d4c435",
   "metadata": {},
   "outputs": [
    {
     "name": "stdout",
     "output_type": "stream",
     "text": [
      "[{'author': 'Wes Davis',\n",
      "  'content': 'Zoom Docs launches in 2024 with built-in AI collaboration '\n",
      "             'features\\r\\n'\n",
      "             'Zoom Docs launches in 2024 with built-in AI collaboration '\n",
      "             'features\\r\\n'\n",
      "             ' / Zooms selling a cheaper AI package than Microsoft 365 Copilo… '\n",
      "             '[+2138 chars]',\n",
      "  'description': 'Zoom Docs is Zoom’s new enterprise collaboration tool that '\n",
      "                 'uses an AI chatbot for similar tasks as those offered by '\n",
      "                 'Google Duet AI or Microsoft 365 Copilot.',\n",
      "  'publishedAt': '2023-10-03T19:16:56Z',\n",
      "  'source': {'id': 'the-verge', 'name': 'The Verge'},\n",
      "  'title': 'Zoom Docs launches in 2024 with built-in AI collaboration features',\n",
      "  'url': 'http://www.theverge.com/2023/10/3/23901656/zoom-docs-ai-companion-meeting-summaries-project-management',\n",
      "  'urlToImage': 'https://cdn.vox-cdn.com/thumbor/bjs6L6Ni0JySMp-ZheodrMYQTYY=/0x0:2040x1360/1200x628/filters:focal(1020x680:1021x681)/cdn.vox-cdn.com/uploads/chorus_asset/file/23988534/acastro_STK059_zoom_03.jpg'},\n",
      " {'author': 'Ashley Belanger',\n",
      "  'content': 'Enlarge/ Microsoft CEO Satya Nadella arrives at federal court on '\n",
      "             'October 2, 2023 in Washington, DC. Nadella is testifying in the '\n",
      "             \"antitrust trial to determine if Alphabet Inc.'s Google maintains \"\n",
      "             'a mon… [+3975 chars]',\n",
      "  'description': 'Google\\'s search dominance creates \"vicious cycle,\" Satya '\n",
      "                 'Nadella testified.',\n",
      "  'publishedAt': '2023-10-03T19:04:30+00:00',\n",
      "  'source': {'id': 'ars-technica', 'name': 'Ars Technica'},\n",
      "  'title': 'Google’s claim that search users have choice is “bogus,” Microsoft '\n",
      "           'CEO tells judge',\n",
      "  'url': 'https://arstechnica.com/tech-policy/2023/10/googles-claim-that-search-users-have-choice-is-bogus-microsoft-ceo-tells-judge/',\n",
      "  'urlToImage': 'https://cdn.arstechnica.net/wp-content/uploads/2023/10/GettyImages-1701653921-760x380.jpg'},\n",
      " {'author': 'Nilay Patel',\n",
      "  'content': 'Microsofts Kevin Scott sat down with us at Code to talk about '\n",
      "             'Bings competition with Google, the race to acquire and develop '\n",
      "             'high-end GPUs, and how art can survive in the age of AI.\\r\\n'\n",
      "             'ByNilay Patel, e… [+34626 chars]',\n",
      "  'description': 'Microsoft CTO Kevin Scott came to Code 2023 to discuss '\n",
      "                 'Bing’s competition with Google, his company’s partnership '\n",
      "                 'with Nvidia, and how AI might influence art.',\n",
      "  'publishedAt': '2023-10-03T15:00:00Z',\n",
      "  'source': {'id': 'the-verge', 'name': 'The Verge'},\n",
      "  'title': 'Microsoft CTO Kevin Scott on Bing’s quest to beat Google and the '\n",
      "           'future of AI art',\n",
      "  'url': 'http://www.theverge.com/23900198/microsoft-kevin-scott-ai-art-bing-google-nvidia-decoder-interview',\n",
      "  'urlToImage': 'https://cdn.vox-cdn.com/thumbor/1nU002FuqGvs5h2bLxxyvxrwiAE=/0x0:3000x2000/1200x628/filters:focal(1500x1000:1501x1001)/cdn.vox-cdn.com/uploads/chorus_asset/file/24971211/KevinScott_Decoder.jpg'},\n",
      " {'author': None,\n",
      "  'content': 'When the Surface Laptop Go debuted three years ago, it seemed '\n",
      "             'like Microsoft pushed itself to make the cheapest possible '\n",
      "             'notebook without sacrificing that Surface flair. The result was '\n",
      "             'a $549 compute… [+7046 chars]',\n",
      "  'description': 'The Surface Laptop Go 3 has evolved into a truly compelling '\n",
      "                 'compact mid-range laptop..',\n",
      "  'publishedAt': '2023-10-03T13:07:21.1632038Z',\n",
      "  'source': {'id': 'engadget', 'name': 'Engadget'},\n",
      "  'title': 'Surface Laptop Go 3 review: Microsoft’s basic PC grows up | '\n",
      "           'Engadget',\n",
      "  'url': 'https://www.engadget.com/surface-laptop-go-3-review-microsoft-basic-pc-grows-up-130008297.html',\n",
      "  'urlToImage': 'https://s.yimg.com/uu/api/res/1.2/1Yvnj6J0kuongCwF8nGkiQ--~B/Zmk9ZmlsbDtoPTYzMDtweW9mZj0wO3c9MTIwMDthcHBpZD15dGFjaHlvbg--/https://media-mbst-pub-ue1.s3.amazonaws.com/creatr-uploaded-images/2023-10/8e316213-6190-11ee-a66f-6ebbced16189.cf.jpg'},\n",
      " {'author': 'Brian Wang',\n",
      "  'content': 'Microsoft will integrate small modular nuclear reactors and '\n",
      "             'microreactors to power Microsoft Cloud and AI datacenters.\\r\\n'\n",
      "             'Artificial intelligence takes a lot of compute power, and '\n",
      "             'Microsoft is putting … [+1567 chars]',\n",
      "  'description': 'Microsoft will integrate small modular nuclear reactors and '\n",
      "                 'microreactors to power Microsoft Cloud and AI datacenters.',\n",
      "  'publishedAt': '2023-10-02T07:33:57Z',\n",
      "  'source': {'id': 'next-big-future', 'name': 'Next Big Future'},\n",
      "  'title': \"Microsoft's Future Nuclear Powered AI Data Centers | \"\n",
      "           'NextBigFuture.com',\n",
      "  'url': 'https://www.nextbigfuture.com/2023/10/microsofts-future-nuclear-powered-ai-data-centers.html',\n",
      "  'urlToImage': 'https://nextbigfuture.s3.amazonaws.com/uploads/2023/10/Screen-Shot-2023-10-02-at-12.33.03-AM.jpg'},\n",
      " {'author': 'Sara Morrison',\n",
      "  'content': 'We got a trio of generative AI announcements from three Big Tech '\n",
      "             'companies this week. Google said on Tuesday that it is extending '\n",
      "             'Bard to several of its apps, including Gmail and Docs. The next '\n",
      "             'day, … [+7060 chars]',\n",
      "  'description': 'Big Tech has a vision for generative AI. Will it work?',\n",
      "  'publishedAt': '2023-09-23T12:00:00Z',\n",
      "  'source': {'id': 'recode', 'name': 'Recode'},\n",
      "  'title': 'Google, Microsoft, and Amazon are pushing their latest AI '\n",
      "           'assistants, ready or not',\n",
      "  'url': 'https://www.vox.com/2023/9/23/23886163/google-microsoft-amazon-generative-ai-assistants',\n",
      "  'urlToImage': 'https://cdn.vox-cdn.com/thumbor/vLOlPQzF2gZwc9q6_fj9m6j33t0=/0x93:5701x3078/fit-in/1200x630/cdn.vox-cdn.com/uploads/chorus_asset/file/24945137/GettyImages_1253646800.jpg'},\n",
      " {'author': 'Sara Fischer',\n",
      "  'content': 'The Federal Trade Commission on Wednesday said it would appeal a '\n",
      "             'decision by a U.S. court to allow Microsoft to acquire gaming '\n",
      "             'giant Activision Blizzard for nearly $70 billion.\\r\\n'\n",
      "             \"Why it matters: It's … [+1437 chars]\",\n",
      "  'description': \"It's likely the FTC's last chance to block a merger before \"\n",
      "                 'an injunction barring the deal expires this weekend.',\n",
      "  'publishedAt': '2023-07-12T23:56:07Z',\n",
      "  'source': {'id': 'axios', 'name': 'Axios'},\n",
      "  'title': 'FTC to appeal ruling paving the way for Microsoft-Activision deal',\n",
      "  'url': 'https://www.axios.com/2023/07/12/microsoft-activision-at-the-beginning',\n",
      "  'urlToImage': 'https://images.axios.com/MOfB1-MIPPfHLrA8TOJhP7X4VVc=/0x0:1365x768/1366x768/2023/07/12/1689205203556.jpg'},\n",
      " {'author': 'Eric Song',\n",
      "  'content': 'Check out the new hot daily deals for today, including a rare '\n",
      "             'discount on an Xbox Series X gaming console bundle, $170 off the '\n",
      "             'Apple AirPods Max headphones, $50 off the Bose SoundLik II '\n",
      "             'portable Blue… [+12798 chars]',\n",
      "  'description': None,\n",
      "  'publishedAt': '2022-09-01T17:05:23Z',\n",
      "  'source': {'id': 'ign', 'name': 'IGN'},\n",
      "  'title': 'Daily Deals: Save $50 Off the Microsoft Xbox Series X Gaming '\n",
      "           'Console + Elite Series 2 Wireless Controller Bundle - IGN',\n",
      "  'url': 'https://www.ign.com/articles/daily-deals-microsoft-xbox-series-x-gaming-console-elite-series-2-controller',\n",
      "  'urlToImage': 'https://assets-prd.ignimgs.com/2022/09/01/090122-1662050863587.jpg?width=1280'}]\n"
     ]
    }
   ],
   "source": [
    "pprint.pprint(response_json['articles'])"
   ]
  }
 ],
 "metadata": {
  "kernelspec": {
   "display_name": "Python 3 (ipykernel)",
   "language": "python",
   "name": "python3"
  },
  "language_info": {
   "codemirror_mode": {
    "name": "ipython",
    "version": 3
   },
   "file_extension": ".py",
   "mimetype": "text/x-python",
   "name": "python",
   "nbconvert_exporter": "python",
   "pygments_lexer": "ipython3",
   "version": "3.9.16"
  }
 },
 "nbformat": 4,
 "nbformat_minor": 5
}
